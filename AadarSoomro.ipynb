{
 "cells": [
  {
   "cell_type": "markdown",
   "metadata": {},
   "source": [
    "# Area Of a Circle"
   ]
  },
  {
   "cell_type": "code",
   "execution_count": 5,
   "metadata": {},
   "outputs": [
    {
     "name": "stdout",
     "output_type": "stream",
     "text": [
      "Enter radius of a circle to find out area :0.5\n",
      "The Area of a circle with radius 0.5 is 0.785\n"
     ]
    }
   ],
   "source": [
    "r = float(input ('Enter radius of a circle to find out area :'))\n",
    "pi = 3.14\n",
    "Area = (pi*(r*r))\n",
    "print('The Area of a circle with radius {} is {}'.format(r, Area))"
   ]
  },
  {
   "cell_type": "markdown",
   "metadata": {},
   "source": [
    "# Check number either positive, negative of zero"
   ]
  },
  {
   "cell_type": "code",
   "execution_count": 2,
   "metadata": {},
   "outputs": [
    {
     "name": "stdout",
     "output_type": "stream",
     "text": [
      "Enter any number to check out either its positive or negative\n",
      "-9\n",
      "it's a negative number\n"
     ]
    }
   ],
   "source": [
    "print(\"Enter any number to check out either its positive or negative\")\n",
    "num = int(input(\"\"))\n",
    "if num < 0:\n",
    "    print (\"it's a negative number\")\n",
    "elif num > 0:\n",
    "    print (\"it's a positive number\")\n",
    "else:\n",
    "    Print(\"Its a zero value\")"
   ]
  },
  {
   "cell_type": "markdown",
   "metadata": {},
   "source": [
    "# Number Divisibility"
   ]
  },
  {
   "cell_type": "code",
   "execution_count": 6,
   "metadata": {},
   "outputs": [
    {
     "name": "stdout",
     "output_type": "stream",
     "text": [
      "Enter number to checkout its divisiblity :4\n",
      "Enter denominator :2\n",
      "Number  4 is completly divisible 2\n"
     ]
    }
   ],
   "source": [
    "num1 = int(input('Enter number to checkout its divisiblity :'))\n",
    "num2 = int(input('Enter denominator :'))\n",
    "if num1 % num2 == 0:\n",
    "    print (\"Number \",num1,\"is completly divisible\", num2)\n",
    "else:\n",
    "    print (\"Number\", num1, \" is not completly divisible\", num2)"
   ]
  },
  {
   "cell_type": "code",
   "execution_count": 7,
   "metadata": {},
   "outputs": [
    {
     "name": "stdout",
     "output_type": "stream",
     "text": [
      "Enter number to checkout its divisiblity :7\n",
      "Enter denominator :2\n",
      "Number 7 number is not completly divisible 2\n"
     ]
    }
   ],
   "source": [
    "num1 = int(input('Enter number to checkout its divisiblity :'))\n",
    "num2 = int(input('Enter denominator :'))\n",
    "if num1 % num2 == 0:\n",
    "    print (\"Number\", num1, \"is completly divisible\", num2)\n",
    "else:\n",
    "    print (\"Number\", num1, \"number is not completly divisible\", num2)"
   ]
  },
  {
   "cell_type": "markdown",
   "metadata": {},
   "source": [
    "# Days Calculator"
   ]
  },
  {
   "cell_type": "code",
   "execution_count": 11,
   "metadata": {},
   "outputs": [
    {
     "name": "stdout",
     "output_type": "stream",
     "text": [
      "Enter first date in this format dd/mmm/yyyy :19/02/1999\n",
      "Enter date succeeding of first in this format dd/mmm/yyyy :19/03/1999\n",
      "number of days are 28\n"
     ]
    }
   ],
   "source": [
    "from datetime import datetime\n",
    "date1 = input ('Enter first date in this format dd/mmm/yyyy :')\n",
    "date2 = input ('Enter date succeeding of first in this format dd/mmm/yyyy :')\n",
    "dateformat = \"%d/%m/%Y\"\n",
    "first = datetime.strptime (date1, dateformat)\n",
    "second = datetime.strptime (date2, dateformat)\n",
    "print (\"number of days are\", (second - first).days)\n"
   ]
  },
  {
   "cell_type": "markdown",
   "metadata": {},
   "source": [
    "# Volume of a sphere"
   ]
  },
  {
   "cell_type": "code",
   "execution_count": 12,
   "metadata": {},
   "outputs": [
    {
     "name": "stdout",
     "output_type": "stream",
     "text": [
      "Enter radius :5\n",
      "Volume of a sphere with radius 5.0 is 523.3333333333334\n"
     ]
    }
   ],
   "source": [
    "r = float(input('Enter radius :'))\n",
    "v = ((4/3)*3.14*(r * r * r))\n",
    "print (\"Volume of a sphere with radius {} is {}\".format(r, v))"
   ]
  },
  {
   "cell_type": "markdown",
   "metadata": {},
   "source": [
    "# Copies of String"
   ]
  },
  {
   "cell_type": "code",
   "execution_count": 2,
   "metadata": {},
   "outputs": [
    {
     "name": "stdout",
     "output_type": "stream",
     "text": [
      "Enter any word :10\n",
      "how many times you want to print :5\n",
      "10\n",
      "10\n",
      "10\n",
      "10\n",
      "10\n"
     ]
    }
   ],
   "source": [
    "str = input('Enter any word :')\n",
    "copy =int(input('how many times you want to print :'))\n",
    "for i in range(copy):\n",
    " print(str)"
   ]
  },
  {
   "cell_type": "markdown",
   "metadata": {},
   "source": [
    "# Check if number is even or odd"
   ]
  },
  {
   "cell_type": "code",
   "execution_count": 6,
   "metadata": {},
   "outputs": [
    {
     "name": "stdout",
     "output_type": "stream",
     "text": [
      "Enter any number :5\n",
      "The number entered is odd\n"
     ]
    }
   ],
   "source": [
    "even = int(input('Enter any number :'))\n",
    "if (even % 2 == 0):\n",
    "    print(\"The number entered is even\")\n",
    "else:\n",
    "    print(\"The number entered is odd\")"
   ]
  },
  {
   "cell_type": "code",
   "execution_count": 7,
   "metadata": {},
   "outputs": [
    {
     "name": "stdout",
     "output_type": "stream",
     "text": [
      "Enter any character :a\n",
      "The character you entered is a vowel\n"
     ]
    }
   ],
   "source": [
    "vow = input('Enter any character :')\n",
    "if (vow == 'a' or vow == 'e' or vow == 'i' or vow == 'o' or vow == 'u'):\n",
    "    print(\"The character you entered is a vowel\")\n",
    "else:\n",
    "    print(\"Charater is not a vowel\")"
   ]
  },
  {
   "cell_type": "markdown",
   "metadata": {},
   "source": [
    "# Area of a triangle"
   ]
  },
  {
   "cell_type": "code",
   "execution_count": 8,
   "metadata": {},
   "outputs": [
    {
     "name": "stdout",
     "output_type": "stream",
     "text": [
      "Enter height of a triangle :6\n",
      "Enter base of a triangle :8\n",
      "24.0\n"
     ]
    }
   ],
   "source": [
    "h = float(input('Enter height of a triangle :'))\n",
    "b = float(input('Enter base of a triangle :'))\n",
    "area = (h*b)/2\n",
    "print(area)"
   ]
  },
  {
   "cell_type": "code",
   "execution_count": 2,
   "metadata": {},
   "outputs": [
    {
     "name": "stdout",
     "output_type": "stream",
     "text": [
      "enter principal amount :10000\n",
      "rate of interest :0.1\n",
      "enter number of years for investment :5\n",
      "50.0\n"
     ]
    }
   ],
   "source": [
    "prn = float(input('enter principal amount :'))\n",
    "interest = float(input ('rate of interest :'))\n",
    "years = float(input('enter number of years for investment :'))\n",
    "compute = prn * (interest / 100) * years\n",
    "print (compute)"
   ]
  },
  {
   "cell_type": "markdown",
   "metadata": {},
   "source": [
    "# Euclidean Distance"
   ]
  },
  {
   "cell_type": "code",
   "execution_count": 4,
   "metadata": {},
   "outputs": [
    {
     "name": "stdout",
     "output_type": "stream",
     "text": [
      "Enter coordinate of x1 :2\n",
      "Enter coordinate of y1 :4\n",
      "Enter coordinate of x2 :4\n",
      "Enter coordinate of y2 :4\n",
      "Distance between (2,4) and (4,4) is 2.0\n"
     ]
    }
   ],
   "source": [
    "import math\n",
    "x1 = int(input('Enter coordinate of x1 :'))\n",
    "y1 = int(input('Enter coordinate of y1 :'))\n",
    "x2 = int(input('Enter coordinate of x2 :'))\n",
    "y2 = int(input('Enter coordinate of y2 :'))\n",
    "d = math.sqrt(pow(y1-x1, 2) + pow(y2-x2, 2))\n",
    "print('Distance between ({},{}) and ({},{}) is {}'.format(x1,y1,x2,y2,d))\n"
   ]
  },
  {
   "cell_type": "markdown",
   "metadata": {},
   "source": [
    "# Feet to Centimeter Conversion"
   ]
  },
  {
   "cell_type": "code",
   "execution_count": 10,
   "metadata": {},
   "outputs": [
    {
     "name": "stdout",
     "output_type": "stream",
     "text": [
      "Enter height in feet : 5.7\n",
      "there are 173.73600000000002 cm in 5.7 feets\n"
     ]
    }
   ],
   "source": [
    "height = float(input('Enter height in feet : '))\n",
    "cm = (height * 30.48)\n",
    "print('there are {} cm in {} feets'.format(cm, height))"
   ]
  },
  {
   "cell_type": "markdown",
   "metadata": {},
   "source": [
    "# BMI calculator"
   ]
  },
  {
   "cell_type": "code",
   "execution_count": 14,
   "metadata": {},
   "outputs": [
    {
     "name": "stdout",
     "output_type": "stream",
     "text": [
      "Enter height in centimeters :178\n",
      "Enter weight in kg :69\n",
      "your BMI is 21.777553339224845\n"
     ]
    }
   ],
   "source": [
    "import math\n",
    "height = float (input('Enter height in centimeters :'))\n",
    "weight = float (input('Enter weight in kg :'))\n",
    "BMI = weight / pow(height/100, 2)\n",
    "print(\"your BMI is\", BMI)"
   ]
  },
  {
   "cell_type": "markdown",
   "metadata": {},
   "source": [
    "# Sum of positve integers"
   ]
  },
  {
   "cell_type": "code",
   "execution_count": 18,
   "metadata": {},
   "outputs": [
    {
     "name": "stdout",
     "output_type": "stream",
     "text": [
      "Enter the value of n: 5\n",
      "Sum of n positive integers till 5 is 15.0 \n"
     ]
    }
   ],
   "source": [
    "num = int(input('Enter the value of n: '))\n",
    "sum = (num*(num+1))/2\n",
    "print('Sum of n positive integers till {} is {} ' .format(num, sum ))"
   ]
  },
  {
   "cell_type": "markdown",
   "metadata": {},
   "source": [
    "# Digits sum of a number "
   ]
  },
  {
   "cell_type": "code",
   "execution_count": null,
   "metadata": {},
   "outputs": [],
   "source": [
    "dig = int(input('Enter a number: '))\n",
    "a = []\n",
    "totl=0\n",
    "for i in str(dig):\n",
    "    a.append(i)\n",
    "for b in range(0, len(a)):\n",
    "     totl = totl + int(a[b])\n",
    "print(totl)"
   ]
  },
  {
   "cell_type": "markdown",
   "metadata": {},
   "source": [
    "# Decimal to binary converter"
   ]
  },
  {
   "cell_type": "code",
   "execution_count": 5,
   "metadata": {},
   "outputs": [
    {
     "name": "stdout",
     "output_type": "stream",
     "text": [
      "Enter a decimal number :58\n",
      "binary representation of 58 is [0, 1, 0, 1, 1, 1]\n"
     ]
    }
   ],
   "source": [
    "dec =int (input('Enter a decimal number :'))\n",
    "a = dec\n",
    "c=1\n",
    "l = []\n",
    "while c != 0:\n",
    "    c = dec // 2\n",
    "    l.append(dec%2)\n",
    "    dec = c\n",
    "#print(*l[::-1],sep='')\n",
    "print ('binary representation of {} is {}'.format(a, l ))"
   ]
  },
  {
   "cell_type": "markdown",
   "metadata": {},
   "source": [
    "# Binary to decimal"
   ]
  },
  {
   "cell_type": "code",
   "execution_count": 7,
   "metadata": {},
   "outputs": [
    {
     "name": "stdout",
     "output_type": "stream",
     "text": [
      "Enter binary expression: 010101\n",
      "Your decimal number is: 21\n"
     ]
    }
   ],
   "source": [
    "num = input('Enter binary expression: ')\n",
    "print('Your decimal number is:', int(num, 2))"
   ]
  },
  {
   "cell_type": "markdown",
   "metadata": {},
   "source": [
    "# Vowels and consonant counter"
   ]
  },
  {
   "cell_type": "code",
   "execution_count": 11,
   "metadata": {},
   "outputs": [
    {
     "name": "stdout",
     "output_type": "stream",
     "text": [
      "Enter Text: abcdefghijklmnopqrstuvwxyz\n",
      "Vowel is 5\n",
      "Consonant is 21\n"
     ]
    }
   ],
   "source": [
    "text = input('Enter Text: ')\n",
    "vowel = 0\n",
    "consonant = 0\n",
    "for e in text:\n",
    "    if ord(e) == 97 or ord(e) == 101 or ord(e) == 105 or ord(e) == 111 or ord(e) == 117 or ord(e) == 65 or ord(e) == 69 and ord(e) == 73 or ord(e) == 79 or ord(e) == 85:\n",
    "        vowel += 1\n",
    "    else:\n",
    "        consonant += 1\n",
    "print(\"Vowel is {}\\nConsonant is {}\".format(vowel, consonant))"
   ]
  },
  {
   "cell_type": "markdown",
   "metadata": {},
   "source": [
    "# Palindrome Tester"
   ]
  },
  {
   "cell_type": "code",
   "execution_count": 12,
   "metadata": {},
   "outputs": [
    {
     "name": "stdout",
     "output_type": "stream",
     "text": [
      "Enter a word to check its palindrome or not: madam\n",
      "Entered word is a Palindrome\n"
     ]
    }
   ],
   "source": [
    "w = input('Enter a word to check its palindrome or not: ')\n",
    "a = []\n",
    "for e in w:\n",
    "    a.append(e)\n",
    "if a[::-1] == list(w):\n",
    "    print(\"Entered word is a Palindrome\")\n",
    "else:\n",
    "    print(\"Not a Palindrome\")"
   ]
  },
  {
   "cell_type": "markdown",
   "metadata": {},
   "source": [
    "# Count Alphabets, numbers and special characters"
   ]
  },
  {
   "cell_type": "code",
   "execution_count": 13,
   "metadata": {},
   "outputs": [
    {
     "name": "stdout",
     "output_type": "stream",
     "text": [
      "Enter the text: aadar_soomro 1\n",
      "Letters = 11\n",
      "Numbers = 1\n",
      "Spaces = 1\n",
      "Special Char = 1\n"
     ]
    }
   ],
   "source": [
    "txt = input('Enter the text: ')\n",
    "letters = 0\n",
    "numbers = 0\n",
    "special_chr = 0\n",
    "space = 0\n",
    "for e in txt:\n",
    "    if (ord(e)>=65 and ord(e)<=90) or (ord(e)>=97 and ord(e)<=122):\n",
    "        letters += 1\n",
    "    elif ord(e) == 32:\n",
    "        space += 1\n",
    "    elif ord(e)>=48 and ord(e)<=57:\n",
    "        numbers += 1\n",
    "    else:\n",
    "        special_chr+=1\n",
    "print('Letters = {}\\nNumbers = {}\\nSpaces = {}\\nSpecial Char = {}'.format(letters, numbers, space, special_chr))"
   ]
  },
  {
   "cell_type": "markdown",
   "metadata": {},
   "source": [
    "# Star Pattern"
   ]
  },
  {
   "cell_type": "code",
   "execution_count": 14,
   "metadata": {},
   "outputs": [
    {
     "name": "stdout",
     "output_type": "stream",
     "text": [
      "input number of rows for making of pattern5\n",
      "* \n",
      "* * \n",
      "* * * \n",
      "* * * * \n",
      "* * * * * \n",
      "* * * * \n",
      "* * * \n",
      "* * \n",
      "* \n",
      "\n"
     ]
    }
   ],
   "source": [
    "rows = int(input('input number of rows for making of pattern'))\n",
    "for i in range (0, rows):\n",
    "    for j in range(0, i + 1):\n",
    "        print(\"*\", end=' ')\n",
    "    print(\"\\r\")\n",
    "for i in range (rows, 0, -1):\n",
    "    for j in range(0, i -1):\n",
    "        print(\"*\", end=' ')\n",
    "    print(\"\\r\")"
   ]
  },
  {
   "cell_type": "markdown",
   "metadata": {},
   "source": [
    "# Pattern 1 :"
   ]
  },
  {
   "cell_type": "code",
   "execution_count": 16,
   "metadata": {},
   "outputs": [
    {
     "name": "stdout",
     "output_type": "stream",
     "text": [
      "Enter number of rows10\n",
      "\n",
      "1 \n",
      "1 2 \n",
      "1 2 3 \n",
      "1 2 3 4 \n",
      "1 2 3 4 5 \n",
      "1 2 3 4 5 6 \n",
      "1 2 3 4 5 6 7 \n",
      "1 2 3 4 5 6 7 8 \n",
      "1 2 3 4 5 6 7 8 9 \n",
      "1 2 3 4 5 6 7 8 \n",
      "1 2 3 4 5 6 7 \n",
      "1 2 3 4 5 6 \n",
      "1 2 3 4 5 \n",
      "1 2 3 4 \n",
      "1 2 3 \n",
      "1 2 \n",
      "1 \n",
      "\n",
      "\n"
     ]
    }
   ],
   "source": [
    "rows = int(input('Enter number of rows'))\n",
    "for i in range (0, rows):\n",
    "    for j in range(1, i + 1):\n",
    "        print(\"{}\".format(j), end=' ')\n",
    "    print(\"\\r\")\n",
    "for i in range (rows, 0, -1):\n",
    "    for j in range(1, i -1):\n",
    "        print(\"{}\".format(j), end=' ')\n",
    "    print(\"\\r\")"
   ]
  },
  {
   "cell_type": "markdown",
   "metadata": {},
   "source": [
    "# Pattern\n",
    "\n",
    "2 :"
   ]
  },
  {
   "cell_type": "code",
   "execution_count": 15,
   "metadata": {},
   "outputs": [
    {
     "name": "stdout",
     "output_type": "stream",
     "text": [
      "Enter number of rows : 8\n",
      "0\n",
      "11\n",
      "222\n",
      "3333\n",
      "44444\n",
      "555555\n",
      "6666666\n",
      "77777777\n"
     ]
    }
   ],
   "source": [
    "rows = int(input('Enter number of rows : '))\n",
    "for i in range(rows):\n",
    "    for j in range(i+1):\n",
    "        print(i, end = '')\n",
    "    print('\\r')"
   ]
  },
  {
   "cell_type": "code",
   "execution_count": null,
   "metadata": {},
   "outputs": [],
   "source": []
  }
 ],
 "metadata": {
  "kernelspec": {
   "display_name": "Python 3",
   "language": "python",
   "name": "python3"
  },
  "language_info": {
   "codemirror_mode": {
    "name": "ipython",
    "version": 3
   },
   "file_extension": ".py",
   "mimetype": "text/x-python",
   "name": "python",
   "nbconvert_exporter": "python",
   "pygments_lexer": "ipython3",
   "version": "3.7.3"
  }
 },
 "nbformat": 4,
 "nbformat_minor": 2
}
